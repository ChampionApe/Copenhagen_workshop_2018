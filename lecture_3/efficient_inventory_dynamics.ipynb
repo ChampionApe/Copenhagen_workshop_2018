{
 "cells": [
  {
   "cell_type": "markdown",
   "metadata": {},
   "source": [
    "## Efficient Simulation in the Inventory Model\n",
    "\n",
    "\n",
    "#### John Stachurski"
   ]
  },
  {
   "cell_type": "markdown",
   "metadata": {},
   "source": [
    "Simulation can be time consuming, especially if we need to simulate many paths\n",
    "\n",
    "And it's often true that large sample sizes are necessary to get an accurate picture\n",
    "\n",
    "Let's look at speeding up our simulations using [Numba](https://numba.pydata.org/)"
   ]
  },
  {
   "cell_type": "code",
   "execution_count": 1,
   "metadata": {},
   "outputs": [],
   "source": [
    "import numpy as np\n",
    "from numba import jit, prange, vectorize\n",
    "from quantecon.util import tic, toc"
   ]
  },
  {
   "cell_type": "markdown",
   "metadata": {},
   "source": [
    "Parameters:"
   ]
  },
  {
   "cell_type": "code",
   "execution_count": 2,
   "metadata": {},
   "outputs": [],
   "source": [
    "s, S = 10.0, 100.0\n",
    "p = 0.4\n",
    "initial_x = 50.0"
   ]
  },
  {
   "cell_type": "markdown",
   "metadata": {},
   "source": [
    "### Simulating One Path"
   ]
  },
  {
   "cell_type": "markdown",
   "metadata": {},
   "source": [
    "Let's look at simulating one path without any optimization."
   ]
  },
  {
   "cell_type": "code",
   "execution_count": 3,
   "metadata": {},
   "outputs": [],
   "source": [
    "def sim_one_inventory_path_simple(sim_length=1_000_000):\n",
    "        \n",
    "    dvals = np.random.geometric(p, size=sim_length-1) - 1\n",
    "    X = np.empty(sim_length)\n",
    "    X[0] = initial_x\n",
    "    \n",
    "    for t, d in enumerate(dvals):\n",
    "        x = X[t]\n",
    "        if x <= s:\n",
    "            X[t+1] = max(S - d, 0)\n",
    "        else:\n",
    "            X[t+1] = max(x - d, 0)\n",
    "            \n",
    "    return X"
   ]
  },
  {
   "cell_type": "markdown",
   "metadata": {},
   "source": [
    "How fast does this run?"
   ]
  },
  {
   "cell_type": "code",
   "execution_count": 4,
   "metadata": {},
   "outputs": [
    {
     "name": "stdout",
     "output_type": "stream",
     "text": [
      "TOC: Elapsed: 0:00:0.72\n"
     ]
    },
    {
     "data": {
      "text/plain": [
       "0.7226040363311768"
      ]
     },
     "execution_count": 4,
     "metadata": {},
     "output_type": "execute_result"
    }
   ],
   "source": [
    "tic()\n",
    "X = sim_one_inventory_path_simple()\n",
    "toc()"
   ]
  },
  {
   "cell_type": "markdown",
   "metadata": {},
   "source": [
    "Now let's build a jitted version."
   ]
  },
  {
   "cell_type": "code",
   "execution_count": 5,
   "metadata": {},
   "outputs": [],
   "source": [
    "@jit(nopython=True)\n",
    "def sim_one_inventory_path_jitted(sim_length=1_000_000):\n",
    "    \n",
    "    dvals = np.random.geometric(p, size=sim_length-1) - 1\n",
    "    X = np.empty(sim_length, dtype=np.int32)\n",
    "    X[0] = initial_x\n",
    "    \n",
    "    for t, d in enumerate(dvals):\n",
    "        x = X[t]\n",
    "        if x <= s:\n",
    "            X[t+1] = max(S - d, 0)\n",
    "        else:\n",
    "            X[t+1] = max(x - d, 0)\n",
    "            \n",
    "    return X"
   ]
  },
  {
   "cell_type": "markdown",
   "metadata": {},
   "source": [
    "This is **much** faster:"
   ]
  },
  {
   "cell_type": "code",
   "execution_count": 6,
   "metadata": {
    "scrolled": true
   },
   "outputs": [
    {
     "name": "stdout",
     "output_type": "stream",
     "text": [
      "TOC: Elapsed: 0:00:0.21\n"
     ]
    },
    {
     "data": {
      "text/plain": [
       "0.2180788516998291"
      ]
     },
     "execution_count": 6,
     "metadata": {},
     "output_type": "execute_result"
    }
   ],
   "source": [
    "tic()\n",
    "X = sim_one_inventory_path_jitted()\n",
    "toc()"
   ]
  },
  {
   "cell_type": "code",
   "execution_count": 7,
   "metadata": {
    "scrolled": true
   },
   "outputs": [
    {
     "name": "stdout",
     "output_type": "stream",
     "text": [
      "TOC: Elapsed: 0:00:0.04\n"
     ]
    },
    {
     "data": {
      "text/plain": [
       "0.04297757148742676"
      ]
     },
     "execution_count": 7,
     "metadata": {},
     "output_type": "execute_result"
    }
   ],
   "source": [
    "tic()\n",
    "X = sim_one_inventory_path_jitted()\n",
    "toc()"
   ]
  },
  {
   "cell_type": "markdown",
   "metadata": {},
   "source": [
    "### Simulating Many Paths"
   ]
  },
  {
   "cell_type": "markdown",
   "metadata": {},
   "source": [
    "Here's a jitted (and hence fast) piece of code for simulating many paths."
   ]
  },
  {
   "cell_type": "code",
   "execution_count": 8,
   "metadata": {},
   "outputs": [],
   "source": [
    "@jit(nopython=True)\n",
    "def sim_paths_jitted(num_paths=500_000,\n",
    "                     sim_length=1000):\n",
    "    \n",
    "    X = np.empty((num_paths, sim_length), dtype=np.int32)\n",
    "    X[:, 0] = initial_x\n",
    "    \n",
    "    for t in range(sim_length-1):\n",
    "        dvals = np.random.geometric(p, size=num_paths) - 1\n",
    "        for m in range(num_paths):\n",
    "            x, d = X[m, t], dvals[m]\n",
    "            if x <= s:\n",
    "                y = max(S - d, 0)\n",
    "            else:\n",
    "                y = max(x - d, 0)\n",
    "            X[m, t+1] = y\n",
    "    return X\n"
   ]
  },
  {
   "cell_type": "markdown",
   "metadata": {},
   "source": [
    "Let's check it's doing what we think it should."
   ]
  },
  {
   "cell_type": "code",
   "execution_count": 9,
   "metadata": {},
   "outputs": [],
   "source": [
    "X = sim_paths_jitted(num_paths=6, sim_length=4)"
   ]
  },
  {
   "cell_type": "code",
   "execution_count": 10,
   "metadata": {},
   "outputs": [
    {
     "data": {
      "text/plain": [
       "array([[50, 49, 47, 45],\n",
       "       [50, 42, 38, 38],\n",
       "       [50, 48, 46, 44],\n",
       "       [50, 49, 49, 49],\n",
       "       [50, 49, 48, 47],\n",
       "       [50, 48, 48, 48]], dtype=int32)"
      ]
     },
     "execution_count": 10,
     "metadata": {},
     "output_type": "execute_result"
    }
   ],
   "source": [
    "X"
   ]
  },
  {
   "cell_type": "markdown",
   "metadata": {},
   "source": [
    "Now let's get a reading on the time."
   ]
  },
  {
   "cell_type": "code",
   "execution_count": 11,
   "metadata": {},
   "outputs": [
    {
     "name": "stdout",
     "output_type": "stream",
     "text": [
      "TOC: Elapsed: 0:00:27.70\n"
     ]
    },
    {
     "data": {
      "text/plain": [
       "27.70879316329956"
      ]
     },
     "execution_count": 11,
     "metadata": {},
     "output_type": "execute_result"
    }
   ],
   "source": [
    "tic()\n",
    "X = sim_paths_jitted()\n",
    "toc()"
   ]
  },
  {
   "cell_type": "markdown",
   "metadata": {},
   "source": [
    "We can do something similar using Numba's `@vectorize` decorator."
   ]
  },
  {
   "cell_type": "code",
   "execution_count": 12,
   "metadata": {},
   "outputs": [],
   "source": [
    "@vectorize\n",
    "def G_vectorized(x, d):\n",
    "    if x <= s:\n",
    "        y = max(S - d, 0)\n",
    "    else:\n",
    "        y = max(x - d, 0)\n",
    "    return y\n"
   ]
  },
  {
   "cell_type": "code",
   "execution_count": 13,
   "metadata": {},
   "outputs": [],
   "source": [
    "def sim_paths_vectorized(num_paths=500_000,\n",
    "                         sim_length=1000):\n",
    "    \n",
    "    X = np.empty((num_paths, sim_length), dtype=np.int32)\n",
    "    X[:, 0] = initial_x\n",
    "\n",
    "    for t in range(sim_length-1):\n",
    "        dvals = np.random.geometric(p, size=num_paths) - 1\n",
    "        X[:, t+1] = G_vectorized(X[:, t], dvals)\n",
    "    return X"
   ]
  },
  {
   "cell_type": "code",
   "execution_count": 14,
   "metadata": {},
   "outputs": [],
   "source": [
    "X = sim_paths_vectorized(num_paths=6, sim_length=4)"
   ]
  },
  {
   "cell_type": "code",
   "execution_count": 15,
   "metadata": {},
   "outputs": [
    {
     "data": {
      "text/plain": [
       "array([[50, 50, 45, 44],\n",
       "       [50, 47, 47, 46],\n",
       "       [50, 48, 45, 42],\n",
       "       [50, 49, 49, 49],\n",
       "       [50, 50, 49, 49],\n",
       "       [50, 48, 48, 42]], dtype=int32)"
      ]
     },
     "execution_count": 15,
     "metadata": {},
     "output_type": "execute_result"
    }
   ],
   "source": [
    "X"
   ]
  },
  {
   "cell_type": "markdown",
   "metadata": {},
   "source": [
    "Here's the timing, which is similar to the jitted version."
   ]
  },
  {
   "cell_type": "code",
   "execution_count": 16,
   "metadata": {},
   "outputs": [
    {
     "name": "stdout",
     "output_type": "stream",
     "text": [
      "TOC: Elapsed: 0:00:25.46\n"
     ]
    },
    {
     "data": {
      "text/plain": [
       "25.46913719177246"
      ]
     },
     "execution_count": 16,
     "metadata": {},
     "output_type": "execute_result"
    }
   ],
   "source": [
    "tic()\n",
    "X = sim_paths_vectorized()\n",
    "toc()"
   ]
  },
  {
   "cell_type": "markdown",
   "metadata": {},
   "source": [
    "We can also target the vectorized function for parallel execution."
   ]
  },
  {
   "cell_type": "code",
   "execution_count": 17,
   "metadata": {},
   "outputs": [],
   "source": [
    "@vectorize('float64(float64, float64)', target='parallel')\n",
    "def G_vectorized_parallel(x, d):\n",
    "    if x <= s:\n",
    "        y = max(S - d, 0)\n",
    "    else:\n",
    "        y = max(x - d, 0)\n",
    "    return y"
   ]
  },
  {
   "cell_type": "code",
   "execution_count": 18,
   "metadata": {},
   "outputs": [],
   "source": [
    "def sim_paths_vectorized_parallel(num_paths=500_000,\n",
    "                                  sim_length=1000):\n",
    "    \n",
    "    X = np.empty((num_paths, sim_length), dtype=np.int32)\n",
    "    X[:, 0] = initial_x\n",
    "    \n",
    "    for t in range(sim_length-1):\n",
    "        dvals = np.random.geometric(p, size=num_paths) - 1\n",
    "        X[:, t+1] = G_vectorized_parallel(X[:, t], dvals)\n",
    "    return X"
   ]
  },
  {
   "cell_type": "code",
   "execution_count": 19,
   "metadata": {},
   "outputs": [],
   "source": [
    "X = sim_paths_vectorized_parallel(num_paths=6, sim_length=4)"
   ]
  },
  {
   "cell_type": "code",
   "execution_count": 20,
   "metadata": {},
   "outputs": [
    {
     "data": {
      "text/plain": [
       "array([[50, 47, 46, 44],\n",
       "       [50, 47, 45, 45],\n",
       "       [50, 46, 46, 46],\n",
       "       [50, 49, 48, 47],\n",
       "       [50, 49, 49, 49],\n",
       "       [50, 46, 44, 42]], dtype=int32)"
      ]
     },
     "execution_count": 20,
     "metadata": {},
     "output_type": "execute_result"
    }
   ],
   "source": [
    "X"
   ]
  },
  {
   "cell_type": "markdown",
   "metadata": {},
   "source": [
    "The timing is not much improved because the individual tasks are relatively small, and hence multiple threads are not efficiently exploited."
   ]
  },
  {
   "cell_type": "code",
   "execution_count": 21,
   "metadata": {},
   "outputs": [
    {
     "name": "stdout",
     "output_type": "stream",
     "text": [
      "TOC: Elapsed: 0:00:33.27\n"
     ]
    },
    {
     "data": {
      "text/plain": [
       "33.273865699768066"
      ]
     },
     "execution_count": 21,
     "metadata": {},
     "output_type": "execute_result"
    }
   ],
   "source": [
    "tic()\n",
    "X = sim_paths_vectorized_parallel()\n",
    "toc()"
   ]
  },
  {
   "cell_type": "markdown",
   "metadata": {},
   "source": [
    "Let's try for more efficient parallelization, where the work is divided into a smaller number of chunks."
   ]
  },
  {
   "cell_type": "code",
   "execution_count": 22,
   "metadata": {},
   "outputs": [],
   "source": [
    "@jit(nopython=True, parallel=True)\n",
    "def sim_paths_jitted_parallel(num_paths=500_000, \n",
    "                              sim_length=1000,\n",
    "                              sections=500):\n",
    "    \n",
    "    X = np.empty((num_paths, sim_length), dtype=np.int32)\n",
    "\n",
    "    section_size = num_paths // sections\n",
    "    \n",
    "    for i in prange(sections):\n",
    "        j = i * section_size\n",
    "        X[j:j+section_size, :] = sim_paths_jitted(num_paths=section_size, \n",
    "                                                sim_length=sim_length)\n",
    "    return X"
   ]
  },
  {
   "cell_type": "code",
   "execution_count": 23,
   "metadata": {},
   "outputs": [],
   "source": [
    "X = sim_paths_jitted_parallel(num_paths=8, \n",
    "                              sim_length=5, \n",
    "                              sections=2)"
   ]
  },
  {
   "cell_type": "code",
   "execution_count": 24,
   "metadata": {},
   "outputs": [
    {
     "data": {
      "text/plain": [
       "array([[50, 50, 50, 48, 48],\n",
       "       [50, 50, 46, 46, 45],\n",
       "       [50, 49, 46, 45, 45],\n",
       "       [50, 50, 50, 48, 47],\n",
       "       [50, 49, 49, 48, 48],\n",
       "       [50, 49, 48, 48, 45],\n",
       "       [50, 50, 50, 43, 43],\n",
       "       [50, 50, 41, 40, 40]], dtype=int32)"
      ]
     },
     "execution_count": 24,
     "metadata": {},
     "output_type": "execute_result"
    }
   ],
   "source": [
    "X"
   ]
  },
  {
   "cell_type": "markdown",
   "metadata": {},
   "source": [
    "Now the speed up from parallelization is significant."
   ]
  },
  {
   "cell_type": "code",
   "execution_count": 25,
   "metadata": {},
   "outputs": [
    {
     "name": "stdout",
     "output_type": "stream",
     "text": [
      "TOC: Elapsed: 0:00:2.86\n"
     ]
    },
    {
     "data": {
      "text/plain": [
       "2.8651044368743896"
      ]
     },
     "execution_count": 25,
     "metadata": {},
     "output_type": "execute_result"
    }
   ],
   "source": [
    "tic()\n",
    "X = sim_paths_jitted_parallel()\n",
    "toc()"
   ]
  },
  {
   "cell_type": "code",
   "execution_count": null,
   "metadata": {},
   "outputs": [],
   "source": []
  }
 ],
 "metadata": {
  "kernelspec": {
   "display_name": "Python 3",
   "language": "python",
   "name": "python3"
  },
  "language_info": {
   "codemirror_mode": {
    "name": "ipython",
    "version": 3
   },
   "file_extension": ".py",
   "mimetype": "text/x-python",
   "name": "python",
   "nbconvert_exporter": "python",
   "pygments_lexer": "ipython3",
   "version": "3.6.4"
  }
 },
 "nbformat": 4,
 "nbformat_minor": 2
}
