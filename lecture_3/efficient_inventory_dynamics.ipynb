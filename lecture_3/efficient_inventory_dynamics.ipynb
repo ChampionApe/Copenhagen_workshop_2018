{
 "cells": [
  {
   "cell_type": "markdown",
   "metadata": {},
   "source": [
    "## Efficient Simulation in the Inventory Model\n",
    "\n",
    "\n",
    "#### John Stachurski"
   ]
  },
  {
   "cell_type": "markdown",
   "metadata": {},
   "source": [
    "Simulation can be time consuming, especially if we need to simulate many paths\n",
    "\n",
    "And it's often true that large sample sizes are necessary to get an accurate picture\n",
    "\n",
    "Let's look at speeding up our simulations using [Numba](https://numba.pydata.org/)"
   ]
  },
  {
   "cell_type": "code",
   "execution_count": 1,
   "metadata": {},
   "outputs": [],
   "source": [
    "import numpy as np\n",
    "from numba import jit, prange, vectorize\n",
    "from quantecon.util import tic, toc"
   ]
  },
  {
   "cell_type": "markdown",
   "metadata": {},
   "source": [
    "Parameters:"
   ]
  },
  {
   "cell_type": "code",
   "execution_count": 2,
   "metadata": {},
   "outputs": [],
   "source": [
    "s, S = 10.0, 100.0\n",
    "p = 0.4\n",
    "initial_x = 50.0"
   ]
  },
  {
   "cell_type": "markdown",
   "metadata": {},
   "source": [
    "### Simulating One Path"
   ]
  },
  {
   "cell_type": "markdown",
   "metadata": {},
   "source": [
    "Let's look at simulating one path without any optimization."
   ]
  },
  {
   "cell_type": "code",
   "execution_count": 3,
   "metadata": {},
   "outputs": [],
   "source": [
    "def sim_one_inventory_path_simple(sim_length=1_000_000):\n",
    "        \n",
    "    dvals = np.random.geometric(p, size=sim_length-1) - 1\n",
    "    X = np.empty(sim_length)\n",
    "    X[0] = initial_x\n",
    "    \n",
    "    for t, d in enumerate(dvals):\n",
    "        x = X[t]\n",
    "        if x <= s:\n",
    "            X[t+1] = max(S - d, 0)\n",
    "        else:\n",
    "            X[t+1] = max(x - d, 0)\n",
    "            \n",
    "    return X"
   ]
  },
  {
   "cell_type": "markdown",
   "metadata": {},
   "source": [
    "How fast does this run?"
   ]
  },
  {
   "cell_type": "code",
   "execution_count": 4,
   "metadata": {},
   "outputs": [
    {
     "name": "stdout",
     "output_type": "stream",
     "text": [
      "TOC: Elapsed: 0:00:0.97\n"
     ]
    },
    {
     "data": {
      "text/plain": [
       "0.970921516418457"
      ]
     },
     "execution_count": 4,
     "metadata": {},
     "output_type": "execute_result"
    }
   ],
   "source": [
    "tic()\n",
    "X = sim_one_inventory_path_simple()\n",
    "toc()"
   ]
  },
  {
   "cell_type": "markdown",
   "metadata": {},
   "source": [
    "Now let's build a jitted version."
   ]
  },
  {
   "cell_type": "code",
   "execution_count": 5,
   "metadata": {},
   "outputs": [],
   "source": [
    "@jit(nopython=True)\n",
    "def sim_one_inventory_path_jitted(sim_length=1_000_000):\n",
    "    \n",
    "    dvals = np.random.geometric(p, size=sim_length-1) - 1\n",
    "    X = np.empty(sim_length, dtype=np.int32)\n",
    "    X[0] = initial_x\n",
    "    \n",
    "    for t, d in enumerate(dvals):\n",
    "        x = X[t]\n",
    "        if x <= s:\n",
    "            X[t+1] = max(S - d, 0)\n",
    "        else:\n",
    "            X[t+1] = max(x - d, 0)\n",
    "            \n",
    "    return X"
   ]
  },
  {
   "cell_type": "markdown",
   "metadata": {},
   "source": [
    "This is **much** faster:"
   ]
  },
  {
   "cell_type": "code",
   "execution_count": 6,
   "metadata": {
    "scrolled": true
   },
   "outputs": [
    {
     "name": "stdout",
     "output_type": "stream",
     "text": [
      "TOC: Elapsed: 0:00:0.28\n"
     ]
    },
    {
     "data": {
      "text/plain": [
       "0.28948092460632324"
      ]
     },
     "execution_count": 6,
     "metadata": {},
     "output_type": "execute_result"
    }
   ],
   "source": [
    "tic()\n",
    "X = sim_one_inventory_path_jitted()\n",
    "toc()"
   ]
  },
  {
   "cell_type": "code",
   "execution_count": 7,
   "metadata": {
    "scrolled": true
   },
   "outputs": [
    {
     "name": "stdout",
     "output_type": "stream",
     "text": [
      "TOC: Elapsed: 0:00:0.07\n"
     ]
    },
    {
     "data": {
      "text/plain": [
       "0.07474923133850098"
      ]
     },
     "execution_count": 7,
     "metadata": {},
     "output_type": "execute_result"
    }
   ],
   "source": [
    "tic()\n",
    "X = sim_one_inventory_path_jitted()\n",
    "toc()"
   ]
  },
  {
   "cell_type": "markdown",
   "metadata": {},
   "source": [
    "### Simulating Many Paths"
   ]
  },
  {
   "cell_type": "markdown",
   "metadata": {},
   "source": [
    "Here's a jitted (and hence fast) piece of code for simulating many paths."
   ]
  },
  {
   "cell_type": "code",
   "execution_count": 8,
   "metadata": {},
   "outputs": [],
   "source": [
    "@jit(nopython=True)\n",
    "def sim_paths_jitted(num_paths=500_000,\n",
    "                     sim_length=1000):\n",
    "    \n",
    "    X = np.empty((num_paths, sim_length), dtype=np.int32)\n",
    "    X[:, 0] = initial_x\n",
    "    \n",
    "    for t in range(sim_length-1):\n",
    "        dvals = np.random.geometric(p, size=num_paths) - 1\n",
    "        for m in range(num_paths):\n",
    "            x, d = X[m, t], dvals[m]\n",
    "            if x <= s:\n",
    "                y = max(S - d, 0)\n",
    "            else:\n",
    "                y = max(x - d, 0)\n",
    "            X[m, t+1] = y\n",
    "    return X\n"
   ]
  },
  {
   "cell_type": "markdown",
   "metadata": {},
   "source": [
    "Let's check it's doing what we think it should."
   ]
  },
  {
   "cell_type": "code",
   "execution_count": 9,
   "metadata": {},
   "outputs": [],
   "source": [
    "X = sim_paths_jitted(num_paths=6, sim_length=4)"
   ]
  },
  {
   "cell_type": "code",
   "execution_count": 10,
   "metadata": {},
   "outputs": [
    {
     "data": {
      "text/plain": [
       "array([[50, 48, 45, 32],\n",
       "       [50, 49, 49, 40],\n",
       "       [50, 49, 46, 46],\n",
       "       [50, 47, 45, 44],\n",
       "       [50, 50, 47, 46],\n",
       "       [50, 49, 48, 48]], dtype=int32)"
      ]
     },
     "execution_count": 10,
     "metadata": {},
     "output_type": "execute_result"
    }
   ],
   "source": [
    "X"
   ]
  },
  {
   "cell_type": "markdown",
   "metadata": {},
   "source": [
    "Now let's get a reading on the time."
   ]
  },
  {
   "cell_type": "code",
   "execution_count": 11,
   "metadata": {},
   "outputs": [
    {
     "name": "stdout",
     "output_type": "stream",
     "text": [
      "TOC: Elapsed: 0:00:31.85\n"
     ]
    },
    {
     "data": {
      "text/plain": [
       "31.851807355880737"
      ]
     },
     "execution_count": 11,
     "metadata": {},
     "output_type": "execute_result"
    }
   ],
   "source": [
    "tic()\n",
    "X = sim_paths_jitted()\n",
    "toc()"
   ]
  },
  {
   "cell_type": "markdown",
   "metadata": {},
   "source": [
    "Let's try for more efficient parallelization, where the work is divided into a smaller number of chunks."
   ]
  },
  {
   "cell_type": "code",
   "execution_count": 12,
   "metadata": {},
   "outputs": [],
   "source": [
    "@jit(nopython=True, parallel=True)\n",
    "def sim_paths_jitted_parallel(num_paths=500_000, \n",
    "                              sim_length=1000,\n",
    "                              sections=500):\n",
    "    \n",
    "    X = np.empty((num_paths, sim_length), dtype=np.int32)\n",
    "\n",
    "    section_size = num_paths // sections\n",
    "    \n",
    "    for i in prange(sections):\n",
    "        j = i * section_size\n",
    "        X[j:j+section_size, :] = sim_paths_jitted(num_paths=section_size, \n",
    "                                                sim_length=sim_length)\n",
    "    return X"
   ]
  },
  {
   "cell_type": "code",
   "execution_count": 13,
   "metadata": {},
   "outputs": [],
   "source": [
    "X = sim_paths_jitted_parallel(num_paths=8, \n",
    "                              sim_length=5, \n",
    "                              sections=2)"
   ]
  },
  {
   "cell_type": "code",
   "execution_count": 14,
   "metadata": {},
   "outputs": [
    {
     "data": {
      "text/plain": [
       "array([[50, 50, 48, 39, 39],\n",
       "       [50, 47, 46, 43, 43],\n",
       "       [50, 49, 49, 49, 49],\n",
       "       [50, 47, 46, 39, 35],\n",
       "       [50, 50, 49, 47, 44],\n",
       "       [50, 46, 45, 45, 45],\n",
       "       [50, 50, 48, 41, 40],\n",
       "       [50, 49, 49, 49, 46]], dtype=int32)"
      ]
     },
     "execution_count": 14,
     "metadata": {},
     "output_type": "execute_result"
    }
   ],
   "source": [
    "X"
   ]
  },
  {
   "cell_type": "markdown",
   "metadata": {},
   "source": [
    "Now the speed up from parallelization is significant."
   ]
  },
  {
   "cell_type": "code",
   "execution_count": 15,
   "metadata": {},
   "outputs": [
    {
     "name": "stdout",
     "output_type": "stream",
     "text": [
      "TOC: Elapsed: 0:00:4.92\n"
     ]
    },
    {
     "data": {
      "text/plain": [
       "4.920250415802002"
      ]
     },
     "execution_count": 15,
     "metadata": {},
     "output_type": "execute_result"
    }
   ],
   "source": [
    "tic()\n",
    "X = sim_paths_jitted_parallel()\n",
    "toc()"
   ]
  },
  {
   "cell_type": "code",
   "execution_count": null,
   "metadata": {},
   "outputs": [],
   "source": []
  }
 ],
 "metadata": {
  "kernelspec": {
   "display_name": "Python 3",
   "language": "python",
   "name": "python3"
  },
  "language_info": {
   "codemirror_mode": {
    "name": "ipython",
    "version": 3
   },
   "file_extension": ".py",
   "mimetype": "text/x-python",
   "name": "python",
   "nbconvert_exporter": "python",
   "pygments_lexer": "ipython3",
   "version": "3.6.4"
  }
 },
 "nbformat": 4,
 "nbformat_minor": 2
}
