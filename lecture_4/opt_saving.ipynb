{
 "cells": [
  {
   "cell_type": "markdown",
   "metadata": {},
   "source": [
    "## Optimal Saving\n",
    "\n",
    "#### John Stachurski"
   ]
  },
  {
   "cell_type": "markdown",
   "metadata": {},
   "source": [
    "A simple optimal savings problem.  The Bellman equation is\n",
    "\n",
    "    v(x, z) = max_x' { u(R x + w z - x') + β E v(x', z')}\n",
    "\n",
    "where 0 <= x' <= R x + w z and\n",
    "\n",
    "    E v(x', z') = Σ_{z'} v(x', z') Q(z, z')\n",
    "\n",
    "We take \n",
    "\n",
    "    u(c) = c^{1 - γ} / (1 - γ)\n",
    "\n",
    "and obtain the transition kernel p by discretizing\n",
    "\n",
    "    log z' = ρ log z + d + σ η\n",
    "    \n",
    "using Rouwenhorst's method."
   ]
  },
  {
   "cell_type": "code",
   "execution_count": 1,
   "metadata": {},
   "outputs": [],
   "source": [
    "import numpy as np\n",
    "import quantecon as qe\n",
    "import matplotlib.pyplot as plt\n",
    "from numba import jit, njit, prange\n",
    "from quantecon.util import tic, toc"
   ]
  },
  {
   "cell_type": "code",
   "execution_count": 2,
   "metadata": {},
   "outputs": [],
   "source": [
    "@njit\n",
    "def u(c, γ):\n",
    "    return (c + 1e-10)**(1 - γ) / (1 - γ)"
   ]
  },
  {
   "cell_type": "code",
   "execution_count": 48,
   "metadata": {},
   "outputs": [],
   "source": [
    "class SavingsProblem:\n",
    "\n",
    "    def __init__(self, \n",
    "                 β=0.95,\n",
    "                 γ=2.5,\n",
    "                 ρ=0.8,\n",
    "                 d=0.0,\n",
    "                 σ=0.1,\n",
    "                 r=0.04,\n",
    "                 w=2.0,\n",
    "                 z_grid_size=16,\n",
    "                 x_grid_size=250,\n",
    "                 x_grid_max=200):\n",
    "\n",
    "        self.β, self.γ = β, γ\n",
    "        self.R = 1 + r\n",
    "        self.w = w\n",
    "        self.z_grid_size, self.x_grid_size = z_grid_size, x_grid_size\n",
    "\n",
    "        mc = qe.rouwenhorst(z_grid_size, d, σ, ρ)\n",
    "        self.Q = mc.P\n",
    "        self.z_grid = np.exp(mc.state_values)\n",
    "\n",
    "        self.x_grid = np.linspace(0.0, x_grid_max, x_grid_size)\n",
    "\n",
    "    def pack_parameters(self):\n",
    "        return self.β, self.γ, self.R, self.w, self.Q, self.x_grid, self.z_grid\n",
    "    \n",
    "    def generate_bellman_operator(self, parallel_flag=True):\n",
    "        \"\"\"\n",
    "        Generate a Bellman operator T corresponding to the optimal savings problem.\n",
    "        \"\"\"\n",
    "        β, γ, R, w, Q, x_grid, z_grid = self.pack_parameters()\n",
    "\n",
    "        @njit(parallel=parallel_flag)\n",
    "        def T(v, v_out, π):\n",
    "            \"\"\"\n",
    "            Given v, compute Tv and write it to v_out.\n",
    "\n",
    "            At the same time, compute the v-greedy policy and write it to π\n",
    "            \"\"\"\n",
    "            n, m = v.shape\n",
    "            for j in prange(m):\n",
    "                z = z_grid[j]\n",
    "                for i in range(n):\n",
    "                    x = x_grid[i]\n",
    "                    # == Given (x, z), compute Tv(x, z) == #\n",
    "                    # Cash in hand at start of period\n",
    "                    y = R * x + w * z  \n",
    "                    max_so_far = - np.inf\n",
    "                    # Find largest x_grid index s.t. x' <= y\n",
    "                    idx = np.searchsorted(x_grid, y)\n",
    "                    # Step through x' with 0 <= x' <= y, find max\n",
    "                    for k in range(idx):\n",
    "                        x_next = x_grid[k]\n",
    "                        val = u(y - x_next, γ) + β * np.sum(v[k, :] * Q[j, :])\n",
    "                        if val > max_so_far:\n",
    "                            max_so_far = val\n",
    "                            k_star = k\n",
    "\n",
    "                    π[i, j] = k_star\n",
    "                    v_out[i, j] = max_so_far\n",
    "        return T"
   ]
  },
  {
   "cell_type": "code",
   "execution_count": 49,
   "metadata": {},
   "outputs": [],
   "source": [
    "def value_function_iteration(T, \n",
    "                             v_init,\n",
    "                             tol=1e-4, \n",
    "                             max_iter=1000, \n",
    "                             verbose=True,\n",
    "                             print_skip=25): \n",
    "\n",
    "    # Set initial condition, set up storage\n",
    "    v_in = v_init\n",
    "    v_out = np.empty_like(v_in)\n",
    "    π = np.empty_like(v_in, dtype=np.int)\n",
    "\n",
    "    # Set up loop\n",
    "    i = 0\n",
    "    error = tol + 1\n",
    "\n",
    "    while i < max_iter and error > tol:\n",
    "        T(v_in, v_out, π)\n",
    "        error = np.max(np.abs(v_in - v_out))\n",
    "        i += 1\n",
    "        if i % print_skip == 0:\n",
    "            print(f\"Error at iteration {i} is {error}.\")\n",
    "        v_in[:] = v_out\n",
    "\n",
    "    if i == max_iter: \n",
    "        print(\"Failed to converge!\")\n",
    "\n",
    "    if verbose and i < max_iter:\n",
    "        print(f\"\\nConverged in {i} iterations.\")\n",
    "\n",
    "    return v_out, π\n",
    "\n"
   ]
  },
  {
   "cell_type": "markdown",
   "metadata": {},
   "source": [
    "Generate an instance"
   ]
  },
  {
   "cell_type": "code",
   "execution_count": 50,
   "metadata": {},
   "outputs": [],
   "source": [
    "sp = SavingsProblem()\n",
    "T = sp.generate_bellman_operator()\n",
    "v_init = np.ones((sp.x_grid_size, sp.z_grid_size))"
   ]
  },
  {
   "cell_type": "markdown",
   "metadata": {},
   "source": [
    "Run and time:"
   ]
  },
  {
   "cell_type": "code",
   "execution_count": 51,
   "metadata": {},
   "outputs": [
    {
     "name": "stdout",
     "output_type": "stream",
     "text": [
      "Error at iteration 25 is 0.08585123407291118.\n",
      "Error at iteration 50 is 0.023630420785144324.\n",
      "Error at iteration 75 is 0.006536848132411954.\n",
      "Error at iteration 100 is 0.0018109611892880295.\n",
      "Error at iteration 125 is 0.0005020592872044816.\n",
      "Error at iteration 150 is 0.0001392305342768907.\n",
      "\n",
      "Converged in 157 iterations.\n",
      "TOC: Elapsed: 0:00:2.07\n"
     ]
    },
    {
     "data": {
      "text/plain": [
       "2.0709664821624756"
      ]
     },
     "execution_count": 51,
     "metadata": {},
     "output_type": "execute_result"
    }
   ],
   "source": [
    "tic()\n",
    "v_star, π = value_function_iteration(T, v_init)\n",
    "toc()"
   ]
  },
  {
   "cell_type": "markdown",
   "metadata": {},
   "source": [
    "### A Simulation Exercise"
   ]
  },
  {
   "cell_type": "markdown",
   "metadata": {},
   "source": [
    "Let's see what happens when we simulate assets under the approximate optimal policy:"
   ]
  },
  {
   "cell_type": "code",
   "execution_count": 55,
   "metadata": {},
   "outputs": [],
   "source": [
    "\n",
    "@njit\n",
    "def simulate_asset_path(π, Q, x_grid, i_init=10, j_init=0, ts_length=12_000):    \n",
    "    i_series = np.empty(ts_length, dtype=np.int_)\n",
    "    i_series[0] = i_init\n",
    "    j = j_init\n",
    "    \n",
    "    for t in range(ts_length-1):\n",
    "        i_series[t+1] = π[i_series[t], j]\n",
    "        j = qe.random.draw(np.cumsum(Q[j, :]))\n",
    "        \n",
    "    return x_grid[i_series]"
   ]
  },
  {
   "cell_type": "code",
   "execution_count": 56,
   "metadata": {},
   "outputs": [],
   "source": [
    "x_series = simulate_asset_path(π, sp.Q, sp.x_grid)"
   ]
  },
  {
   "cell_type": "code",
   "execution_count": 57,
   "metadata": {},
   "outputs": [
    {
     "data": {
      "image/png": "[encoded data removed]",
      "text/plain": [
       "<matplotlib.figure.Figure at 0x7fd1d7afa128>"
      ]
     },
     "metadata": {},
     "output_type": "display_data"
    }
   ],
   "source": [
    "fig, ax = plt.subplots(figsize=(9, 6))\n",
    "ax.plot(x_series)\n",
    "plt.show()"
   ]
  },
  {
   "cell_type": "markdown",
   "metadata": {},
   "source": [
    "### Steady State Wealth Distribution"
   ]
  },
  {
   "cell_type": "code",
   "execution_count": 72,
   "metadata": {},
   "outputs": [],
   "source": [
    "@njit(parallel=True)\n",
    "def simulate_stationary_assets(π, \n",
    "                               Q, \n",
    "                               x_grid, \n",
    "                               i_init=10, \n",
    "                               j_init=0, \n",
    "                               num_households=100_000,\n",
    "                               ts_length=1000):\n",
    "    asset_vals = np.empty(num_households)\n",
    "    for m in prange(num_households):\n",
    "        i = i_init\n",
    "        j = j_init\n",
    "\n",
    "        for t in range(ts_length-1):\n",
    "            i = π[i, j]\n",
    "            j = qe.random.draw(np.cumsum(Q[j, :]))\n",
    "            \n",
    "        asset_vals[m] = x_grid[i]\n",
    "        \n",
    "    return asset_vals"
   ]
  },
  {
   "cell_type": "code",
   "execution_count": 73,
   "metadata": {},
   "outputs": [],
   "source": [
    "asset_vals = simulate_stationary_assets(π, sp.Q, sp.x_grid)"
   ]
  },
  {
   "cell_type": "code",
   "execution_count": 71,
   "metadata": {},
   "outputs": [
    {
     "data": {
      "image/png": "[encoded data removed]",
      "text/plain": [
       "<matplotlib.figure.Figure at 0x7fd1d6a21b38>"
      ]
     },
     "metadata": {},
     "output_type": "display_data"
    }
   ],
   "source": [
    "fig, ax = plt.subplots()\n",
    "ax.hist(asset_vals, bins=40)\n",
    "plt.show()            "
   ]
  },
  {
   "cell_type": "markdown",
   "metadata": {},
   "source": [
    "### Comparative Dynamics"
   ]
  },
  {
   "cell_type": "markdown",
   "metadata": {},
   "source": [
    "How much capital does the economy supply in steady state?\n",
    "\n",
    "How does this change and the interest rate varies?"
   ]
  },
  {
   "cell_type": "code",
   "execution_count": 35,
   "metadata": {},
   "outputs": [],
   "source": [
    "@njit\n",
    "def jitted_vfi(T, v_init, tol=1e-4, max_iter=1000):\n",
    "\n",
    "    # Set initial condition, set up storage\n",
    "    v_in = v_init\n",
    "    v_out = np.empty_like(v_in)\n",
    "    π = np.empty_like(v_in, dtype=np.int_)\n",
    "    # Set up loop\n",
    "    i = 0\n",
    "    error = tol + 1\n",
    "\n",
    "    while i < max_iter and error > tol:\n",
    "        T(v_in, v_out, π)\n",
    "        error = np.max(np.abs(v_in - v_out))\n",
    "        i += 1\n",
    "        v_in[:] = v_out\n",
    "    return v_out, π\n"
   ]
  },
  {
   "cell_type": "code",
   "execution_count": 41,
   "metadata": {},
   "outputs": [],
   "source": [
    "@njit\n",
    "def compute_stationary_capital(T, v_init, Q, x_grid, z_grid, sim_length=1_000_000):\n",
    "    v_out, π = jitted_vfi(T, v_init)\n",
    "    k = simulate_assets(π, Q, x_grid).mean()\n",
    "    return k"
   ]
  },
  {
   "cell_type": "code",
   "execution_count": 42,
   "metadata": {},
   "outputs": [],
   "source": [
    "sp = SavingsProblem()\n",
    "T = sp.generate_bellman_operator()\n",
    "v_init = np.ones((len(sp.x_grid), len(sp.z_grid)))"
   ]
  },
  {
   "cell_type": "code",
   "execution_count": 43,
   "metadata": {},
   "outputs": [
    {
     "data": {
      "text/plain": [
       "38.40200803212974"
      ]
     },
     "execution_count": 43,
     "metadata": {},
     "output_type": "execute_result"
    }
   ],
   "source": [
    "Q, x_grid, z_grid = sp.Q, sp.x_grid, sp.z_grid\n",
    "compute_stationary_capital(T, v_init, Q, x_grid, z_grid)"
   ]
  },
  {
   "cell_type": "code",
   "execution_count": 46,
   "metadata": {},
   "outputs": [],
   "source": [
    "r_vals = np.linspace(0.01, 0.5, 20)\n",
    "k_vals = np.empty_like(r_vals)\n",
    "for i, r in enumerate(r_vals):\n",
    "    sp = SavingsProblem(r=r)\n",
    "    T = sp.generate_bellman_operator()\n",
    "    k = compute_stationary_capital(T, v_init, sp.Q, sp.x_grid, sp.z_grid)\n",
    "    k_vals[i] = k"
   ]
  },
  {
   "cell_type": "code",
   "execution_count": 47,
   "metadata": {},
   "outputs": [
    {
     "data": {
      "image/png": "[encoded data removed]",
      "text/plain": [
       "<matplotlib.figure.Figure at 0x7fd1df8dfb70>"
      ]
     },
     "metadata": {},
     "output_type": "display_data"
    }
   ],
   "source": [
    "fig, ax = plt.subplots()\n",
    "ax.plot(r_vals, k_vals, label='steady state capital supply')\n",
    "ax.set_xlabel(\"interest rate\")\n",
    "ax.set_ylabel(\"capital\")\n",
    "ax.legend()\n",
    "plt.show()"
   ]
  },
  {
   "cell_type": "code",
   "execution_count": null,
   "metadata": {},
   "outputs": [],
   "source": []
  },
  {
   "cell_type": "code",
   "execution_count": null,
   "metadata": {},
   "outputs": [],
   "source": []
  }
 ],
 "metadata": {
  "kernelspec": {
   "display_name": "Python 3",
   "language": "python",
   "name": "python3"
  },
  "language_info": {
   "codemirror_mode": {
    "name": "ipython",
    "version": 3
   },
   "file_extension": ".py",
   "mimetype": "text/x-python",
   "name": "python",
   "nbconvert_exporter": "python",
   "pygments_lexer": "ipython3",
   "version": "3.6.4"
  }
 },
 "nbformat": 4,
 "nbformat_minor": 2
}
