{
 "cells": [
  {
   "cell_type": "markdown",
   "metadata": {},
   "source": [
    "## Job Search\n",
    "\n",
    "#### John Stachurski"
   ]
  },
  {
   "cell_type": "markdown",
   "metadata": {},
   "source": [
    "A McCall job search model with correlated state process, using Jovanovic-style continuation value function iteration, linear interpolation and Monte Carlo integration."
   ]
  },
  {
   "cell_type": "markdown",
   "metadata": {},
   "source": [
    "\n",
    "Job search with persistent and transitory components to wages.\n",
    "\n",
    "Wages are given by\n",
    "\n",
    "$$    w = \\exp(z) + y $$\n",
    "\n",
    "$$    y \\sim \\exp(μ + s ζ)  $$\n",
    "\n",
    "$$    z' = d + ρ z + σ ε $$\n",
    "\n",
    "with ζ and ε both iid and N(0, 1).   The value function is\n",
    "\n",
    "$$ v(w, z) = \\max\\{ u(w) / (1-β), u(c) + β E v(w', z')\\} $$\n",
    "\n",
    "The continuation value function satisfies\n",
    "\n",
    "$$    f(z) = u(c) + β E \\max\\{ u(w') / (1-β), f(z') \\} $$\n",
    "\n",
    "From $f$ we can solve the optimal stopping problem by stopping when\n",
    "\n",
    "$$    u(w) / (1-β) > f(z) $$\n",
    "\n",
    "For utility we take $u(c) = ln(c)$.  The reservation wage is the wage where\n",
    "equality holds, or\n",
    "\n",
    "$$    w^*(z) = \\exp(f^*(z) (1-β)) $$\n",
    "\n",
    "Our aim is to solve for the reservation rule.  We do this by first computing\n",
    "$f^*$ as the fixed point of the contraction map\n",
    "\n",
    "$$    Qf(z) = u(c) + β E \\max\\{ u(w') / (1-β), f(z') \\} $$\n",
    "\n",
    "When we iterate, f is stored as a vector of values on a grid and these points\n",
    "are interpolated into a function as necessary.\n",
    "\n",
    "Interpolation is piecewise linear.\n",
    "\n",
    "The integral in the definition of Qf is calculated by Monte Carlo.\n",
    "\n"
   ]
  },
  {
   "cell_type": "code",
   "execution_count": 34,
   "metadata": {},
   "outputs": [],
   "source": [
    "import numpy as np\n",
    "import matplotlib.pyplot as plt\n",
    "from numpy.random import randn\n",
    "from lininterp import interp1d\n",
    "from numba import jit, njit, prange\n",
    "\n",
    "from quantecon import tic, toc"
   ]
  },
  {
   "cell_type": "code",
   "execution_count": 41,
   "metadata": {},
   "outputs": [],
   "source": [
    "class JobSearch:\n",
    "\n",
    "    def __init__(self,\n",
    "                 μ=0.0, \n",
    "                 s=1.0, \n",
    "                 d=0.0, \n",
    "                 ρ=0.9, \n",
    "                 σ=0.1, \n",
    "                 β=0.98, \n",
    "                 c=5,\n",
    "                 mc_size=5000,\n",
    "                 grid_size=200):\n",
    "\n",
    "        self.μ, self.s, self.d,  = μ, s, d, \n",
    "        self.ρ, self.σ, self.β, self.c = ρ, σ, β, c \n",
    "\n",
    "        # Set up grid\n",
    "        z_mean = d / (1 - ρ)\n",
    "        z_sd = np.sqrt(σ / (1 - ρ**2))\n",
    "        k = 3  # std devs from mean\n",
    "        a, b = z_mean - k * z_sd, z_mean + k * z_sd\n",
    "        self.z_grid = np.linspace(a, b, grid_size)\n",
    "\n",
    "        # Store shocks\n",
    "        self.mc_size = mc_size\n",
    "        self.e_draws = randn(2, mc_size)\n",
    "\n",
    "    def pack_parameters(self):\n",
    "        return self.μ, self.s, self.d, \\\n",
    "                self.ρ, self.σ, self.β, self.c\n",
    "        \n",
    "    def operator_factory(self):\n",
    "        μ, s, d, ρ, σ, β, c = self.pack_parameters()\n",
    "        e_draws = self.e_draws\n",
    "        z_grid = self.z_grid\n",
    "        M = e_draws.shape[1]\n",
    "\n",
    "        @njit(parallel=True)\n",
    "        def Q(f_in, f_out):       \n",
    "            for i in prange(len(z_grid)):\n",
    "                z = z_grid[i]\n",
    "                expectation = 0.0\n",
    "                for m in range(M):\n",
    "                    e1, e2 = e_draws[:, m]\n",
    "                    z_next = d + ρ * z + σ * e1\n",
    "                    go_val = interp1d(z_grid, f_in, z_next) # f(z') \n",
    "                    y_next = np.exp(μ + s * e2)             # y' draw\n",
    "                    w_next = np.exp(z_next) + y_next        # w' draw\n",
    "                    stop_val = np.log(w_next) / (1 - β)    \n",
    "                    expectation += max(stop_val, go_val)\n",
    "                expectation = expectation / M \n",
    "                f_out[i] = np.log(c) + β * expectation\n",
    "        return Q"
   ]
  },
  {
   "cell_type": "code",
   "execution_count": 46,
   "metadata": {},
   "outputs": [],
   "source": [
    "def compute_fixed_point(js,\n",
    "                        tol=1e-4, \n",
    "                        max_iter=1000, \n",
    "                        verbose=True,\n",
    "                        print_skip=25): \n",
    "\n",
    "    Q = js.operator_factory()\n",
    "    # Set initial condition\n",
    "    f_init = np.log(js.c) * np.ones(len(js.z_grid))\n",
    "    f_out = np.empty_like(f_init)\n",
    "\n",
    "    # Set up loop\n",
    "    f_in = f_init\n",
    "    i = 0\n",
    "    error = tol + 1\n",
    "\n",
    "    while i < max_iter and error > tol:\n",
    "        Q(f_in, f_out)\n",
    "        error = np.max(np.abs(f_in - f_out))\n",
    "        i += 1\n",
    "        if i % print_skip == 0:\n",
    "            print(f\"Error at iteration {i} is {error}.\")\n",
    "        f_in[:] = f_out\n",
    "\n",
    "    if i == max_iter: \n",
    "        print(\"Failed to converge!\")\n",
    "\n",
    "    if verbose and i < max_iter:\n",
    "        print(f\"\\nConverged in {i} iterations.\")\n",
    "\n",
    "    return f_out"
   ]
  },
  {
   "cell_type": "code",
   "execution_count": 47,
   "metadata": {},
   "outputs": [],
   "source": [
    "js = JobSearch(mc_size=1000)\n"
   ]
  },
  {
   "cell_type": "code",
   "execution_count": 48,
   "metadata": {},
   "outputs": [
    {
     "data": {
      "text/plain": [
       "1000"
      ]
     },
     "execution_count": 48,
     "metadata": {},
     "output_type": "execute_result"
    }
   ],
   "source": [
    "js.mc_size"
   ]
  },
  {
   "cell_type": "code",
   "execution_count": 49,
   "metadata": {},
   "outputs": [
    {
     "name": "stdout",
     "output_type": "stream",
     "text": [
      "Error at iteration 25 is 0.6439704038962617.\n",
      "Error at iteration 50 is 0.14679188192533843.\n",
      "Error at iteration 75 is 0.04306009733092253.\n",
      "Error at iteration 100 is 0.0136849351267756.\n",
      "Error at iteration 125 is 0.004444957677932848.\n",
      "Error at iteration 150 is 0.0014522136502108651.\n",
      "Error at iteration 175 is 0.00047509025363012825.\n",
      "Error at iteration 200 is 0.00015557383126463264.\n",
      "\n",
      "Converged in 210 iterations.\n",
      "TOC: Elapsed: 0:00:7.03\n"
     ]
    },
    {
     "data": {
      "text/plain": [
       "7.037079572677612"
      ]
     },
     "execution_count": 49,
     "metadata": {},
     "output_type": "execute_result"
    }
   ],
   "source": [
    "tic()\n",
    "f_star = compute_fixed_point(js, verbose=True)\n",
    "toc()"
   ]
  },
  {
   "cell_type": "code",
   "execution_count": 50,
   "metadata": {},
   "outputs": [
    {
     "data": {
      "image/png": "[encoded data removed]",
      "text/plain": [
       "<matplotlib.figure.Figure at 0x7ff9c6f2a080>"
      ]
     },
     "metadata": {},
     "output_type": "display_data"
    }
   ],
   "source": [
    "res_wage_function = np.exp(f_star * (1 - js.β))\n",
    "\n",
    "fig, ax = plt.subplots(figsize=(9, 6))\n",
    "ax.plot(js.z_grid, res_wage_function, label=\"reservation wage given $z$\")\n",
    "ax.set(xlabel=\"$z$\", ylabel=\"wage\")\n",
    "ax.legend()\n",
    "plt.show()"
   ]
  },
  {
   "cell_type": "markdown",
   "metadata": {},
   "source": [
    "### Let's try higher unemployment compensation"
   ]
  },
  {
   "cell_type": "code",
   "execution_count": 51,
   "metadata": {},
   "outputs": [
    {
     "data": {
      "text/plain": [
       "5"
      ]
     },
     "execution_count": 51,
     "metadata": {},
     "output_type": "execute_result"
    }
   ],
   "source": [
    "js.c"
   ]
  },
  {
   "cell_type": "code",
   "execution_count": 52,
   "metadata": {},
   "outputs": [],
   "source": [
    "js.c = 8"
   ]
  },
  {
   "cell_type": "code",
   "execution_count": 56,
   "metadata": {},
   "outputs": [
    {
     "name": "stdout",
     "output_type": "stream",
     "text": [
      "Error at iteration 25 is 0.8354878297147934.\n",
      "Error at iteration 50 is 0.24765692606112566.\n",
      "Error at iteration 75 is 0.09558046230624484.\n",
      "Error at iteration 100 is 0.03985565919086298.\n",
      "Error at iteration 125 is 0.016995512247945044.\n",
      "Error at iteration 150 is 0.007300610714722211.\n",
      "Error at iteration 175 is 0.003142816032607243.\n",
      "Error at iteration 200 is 0.0013540098935749256.\n",
      "Error at iteration 225 is 0.0005834202939922761.\n",
      "Error at iteration 250 is 0.00025136209006859644.\n",
      "Error at iteration 275 is 0.00010832739918953393.\n",
      "\n",
      "Converged in 278 iterations.\n"
     ]
    }
   ],
   "source": [
    "f_star = compute_fixed_point(js, verbose=True)"
   ]
  },
  {
   "cell_type": "code",
   "execution_count": 58,
   "metadata": {},
   "outputs": [
    {
     "data": {
      "image/png": "[encoded data removed]",
      "text/plain": [
       "<matplotlib.figure.Figure at 0x7ff9c6cabb38>"
      ]
     },
     "metadata": {},
     "output_type": "display_data"
    }
   ],
   "source": [
    "res_wage_function = np.exp(f_star * (1 - js.β))\n",
    "\n",
    "fig, ax = plt.subplots(figsize=(9, 6))\n",
    "ax.plot(js.z_grid, res_wage_function, label=\"reservation wage given $z$\")\n",
    "ax.set(xlabel=\"$z$\", ylabel=\"wage\")\n",
    "ax.legend()\n",
    "plt.show()"
   ]
  },
  {
   "cell_type": "code",
   "execution_count": null,
   "metadata": {},
   "outputs": [],
   "source": []
  }
 ],
 "metadata": {
  "kernelspec": {
   "display_name": "Python 3",
   "language": "python",
   "name": "python3"
  },
  "language_info": {
   "codemirror_mode": {
    "name": "ipython",
    "version": 3
   },
   "file_extension": ".py",
   "mimetype": "text/x-python",
   "name": "python",
   "nbconvert_exporter": "python",
   "pygments_lexer": "ipython3",
   "version": "3.6.4"
  }
 },
 "nbformat": 4,
 "nbformat_minor": 2
}
