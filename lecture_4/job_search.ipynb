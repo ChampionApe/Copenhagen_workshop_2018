{
 "cells": [
  {
   "cell_type": "markdown",
   "metadata": {},
   "source": [
    "## Job Search\n",
    "\n",
    "#### John Stachurski"
   ]
  },
  {
   "cell_type": "markdown",
   "metadata": {},
   "source": [
    "\n",
    "McCall style job search with persistent and transitory components to wages.\n",
    "\n",
    "Wages at each point in time are given by\n",
    "\n",
    "$$    w = \\exp(z) + y $$\n",
    "\n",
    "$$    y \\sim \\exp(μ + s ζ)  $$\n",
    "\n",
    "$$    z' = d + ρ z + σ ε $$\n",
    "\n",
    "with ζ and ε both iid and N(0, 1).   \n",
    "\n",
    "The worker can either\n",
    "\n",
    "* accept an offer and work permanently at that wage, or\n",
    "* take unemployment compensation $c$ and wait till next period\n",
    "\n",
    "The value function satisfies\n",
    "\n",
    "$$ v(w, z) = \\max \\left\\{ \\frac{u(w)}{1-β}, u(c) + β \\, \\mathbb E_z v(w', z') \\right\\} $$\n",
    "\n",
    "The continuation value function satisfies\n",
    "\n",
    "$$    f^*(z) = u(c) + β \\, \\mathbb E_z \\max \\left\\{ \\frac{u(w')}{1-β}, f^*(z') \\right\\} $$\n",
    "\n",
    "\n",
    "From $f^*$ we can solve the optimal stopping problem by stopping when\n",
    "\n",
    "$$    \\frac{u(w)}{1-β} \\geq f(z) $$\n",
    "\n",
    "For utility we take $u(c) = \\ln(c)$.  The reservation wage is the wage where\n",
    "equality holds in the last expression.\n",
    "\n",
    "That is,\n",
    "\n",
    "$$    w^*(z) = \\exp(f^*(z) (1-β)) $$\n",
    "\n",
    "Our aim is to solve for the reservation rule.  We do this by first computing\n",
    "$f^*$ as the fixed point of the contraction map\n",
    "\n",
    "$$    Qf(z) = u(c) + β \\, \\mathbb E_z \\max \\left\\{ \\frac{u(w')}{1-β}, f(z') \\right\\} $$\n",
    "\n",
    "When we iterate, f is stored as a vector of values on a grid and these points\n",
    "are interpolated into a function as necessary.\n",
    "\n",
    "Interpolation is piecewise linear.\n",
    "\n",
    "The integral in the definition of $Qf$ is calculated by Monte Carlo.\n",
    "\n"
   ]
  },
  {
   "cell_type": "code",
   "execution_count": 1,
   "metadata": {},
   "outputs": [],
   "source": [
    "import numpy as np\n",
    "import matplotlib.pyplot as plt\n",
    "from numpy.random import randn\n",
    "from lininterp import interp1d\n",
    "from numba import jit, njit, prange\n",
    "\n",
    "from quantecon import tic, toc"
   ]
  },
  {
   "cell_type": "code",
   "execution_count": 2,
   "metadata": {},
   "outputs": [],
   "source": [
    "class JobSearch:\n",
    "\n",
    "    def __init__(self,\n",
    "                 μ=0.0, \n",
    "                 s=1.0, \n",
    "                 d=0.0, \n",
    "                 ρ=0.9, \n",
    "                 σ=0.1, \n",
    "                 β=0.98, \n",
    "                 c=5,\n",
    "                 mc_size=2000,\n",
    "                 grid_size=200):\n",
    "\n",
    "        self.μ, self.s, self.d,  = μ, s, d, \n",
    "        self.ρ, self.σ, self.β, self.c = ρ, σ, β, c \n",
    "\n",
    "        # Set up grid\n",
    "        z_mean = d / (1 - ρ)\n",
    "        z_sd = np.sqrt(σ / (1 - ρ**2))\n",
    "        k = 3  # std devs from mean\n",
    "        a, b = z_mean - k * z_sd, z_mean + k * z_sd\n",
    "        self.z_grid = np.linspace(a, b, grid_size)\n",
    "\n",
    "        # Store shocks\n",
    "        self.mc_size = mc_size\n",
    "        self.e_draws = randn(2, mc_size)\n",
    "\n",
    "    def pack_parameters(self):\n",
    "        return self.μ, self.s, self.d, \\\n",
    "                self.ρ, self.σ, self.β, self.c\n",
    "        \n",
    "    def generate_Q_operator(self, parallel_flag=True):\n",
    "        μ, s, d, ρ, σ, β, c = self.pack_parameters()\n",
    "        e_draws = self.e_draws\n",
    "        z_grid = self.z_grid\n",
    "        M = e_draws.shape[1]\n",
    "\n",
    "        @njit(parallel=parallel_flag)\n",
    "        def Q(f_in, f_out):       \n",
    "            for i in prange(len(z_grid)):\n",
    "                z = z_grid[i]\n",
    "                expectation = 0.0\n",
    "                for m in range(M):\n",
    "                    e1, e2 = e_draws[:, m]\n",
    "                    z_next = d + ρ * z + σ * e1\n",
    "                    go_val = interp1d(z_grid, f_in, z_next) # f(z') \n",
    "                    y_next = np.exp(μ + s * e2)             # y' draw\n",
    "                    w_next = np.exp(z_next) + y_next        # w' draw\n",
    "                    stop_val = np.log(w_next) / (1 - β)    \n",
    "                    expectation += max(stop_val, go_val)\n",
    "                expectation = expectation / M \n",
    "                f_out[i] = np.log(c) + β * expectation\n",
    "        return Q"
   ]
  },
  {
   "cell_type": "code",
   "execution_count": 3,
   "metadata": {},
   "outputs": [],
   "source": [
    "def compute_fixed_point(Q,\n",
    "                        f_init,\n",
    "                        tol=1e-4, \n",
    "                        max_iter=1000, \n",
    "                        verbose=True,\n",
    "                        print_skip=25): \n",
    "\n",
    "    f_out = np.empty_like(f_init)\n",
    "\n",
    "    # Set up loop\n",
    "    f_in = f_init\n",
    "    i = 0\n",
    "    error = tol + 1\n",
    "\n",
    "    while i < max_iter and error > tol:\n",
    "        Q(f_in, f_out)\n",
    "        error = np.max(np.abs(f_in - f_out))\n",
    "        i += 1\n",
    "        if verbose and i % print_skip == 0:\n",
    "            print(f\"Error at iteration {i} is {error}.\")\n",
    "        f_in[:] = f_out\n",
    "\n",
    "    if i == max_iter: \n",
    "        print(\"Failed to converge!\")\n",
    "\n",
    "    if verbose and i < max_iter:\n",
    "        print(f\"\\nConverged in {i} iterations.\")\n",
    "\n",
    "    return f_out"
   ]
  },
  {
   "cell_type": "code",
   "execution_count": 4,
   "metadata": {},
   "outputs": [],
   "source": [
    "js = JobSearch()\n",
    "Q = js.generate_Q_operator(parallel_flag=False)\n",
    "Q_parallelized = js.generate_Q_operator(parallel_flag=True)"
   ]
  },
  {
   "cell_type": "code",
   "execution_count": 5,
   "metadata": {},
   "outputs": [
    {
     "name": "stdout",
     "output_type": "stream",
     "text": [
      "Error at iteration 25 is 0.6526224066028021.\n",
      "Error at iteration 50 is 0.14774795088432313.\n",
      "Error at iteration 75 is 0.043032675555366495.\n",
      "Error at iteration 100 is 0.013505076280281969.\n",
      "Error at iteration 125 is 0.004347756099335243.\n",
      "Error at iteration 150 is 0.0014135654134150855.\n",
      "Error at iteration 175 is 0.00046113929521141017.\n",
      "Error at iteration 200 is 0.00015055776538019927.\n",
      "\n",
      "Converged in 210 iterations.\n",
      "TOC: Elapsed: 0:00:38.11\n"
     ]
    },
    {
     "data": {
      "text/plain": [
       "'38.11'"
      ]
     },
     "execution_count": 5,
     "metadata": {},
     "output_type": "execute_result"
    }
   ],
   "source": [
    "f_init = np.log(js.c) * np.ones(len(js.z_grid))\n",
    "tic()\n",
    "f_star = compute_fixed_point(Q, f_init, verbose=True)\n",
    "toc()"
   ]
  },
  {
   "cell_type": "code",
   "execution_count": 6,
   "metadata": {},
   "outputs": [
    {
     "name": "stdout",
     "output_type": "stream",
     "text": [
      "Error at iteration 25 is 0.6526224066028021.\n",
      "Error at iteration 50 is 0.14774795088432313.\n",
      "Error at iteration 75 is 0.043032675555366495.\n",
      "Error at iteration 100 is 0.013505076280281969.\n",
      "Error at iteration 125 is 0.004347756099335243.\n",
      "Error at iteration 150 is 0.0014135654134150855.\n",
      "Error at iteration 175 is 0.00046113929521141017.\n",
      "Error at iteration 200 is 0.00015055776538019927.\n",
      "\n",
      "Converged in 210 iterations.\n",
      "TOC: Elapsed: 0:00:6.65\n"
     ]
    },
    {
     "data": {
      "text/plain": [
       "'6.65'"
      ]
     },
     "execution_count": 6,
     "metadata": {},
     "output_type": "execute_result"
    }
   ],
   "source": [
    "f_init = np.log(js.c) * np.ones(len(js.z_grid))\n",
    "tic()\n",
    "f_star = compute_fixed_point(Q_parallelized, f_init, verbose=True)\n",
    "toc()"
   ]
  },
  {
   "cell_type": "code",
   "execution_count": 7,
   "metadata": {},
   "outputs": [
    {
     "data": {
      "image/png": "[encoded data removed]",
      "text/plain": [
       "<matplotlib.figure.Figure at 0x7fc00715a4e0>"
      ]
     },
     "metadata": {},
     "output_type": "display_data"
    }
   ],
   "source": [
    "res_wage_function = np.exp(f_star * (1 - js.β))\n",
    "\n",
    "fig, ax = plt.subplots(figsize=(9, 6))\n",
    "ax.plot(js.z_grid, res_wage_function, label=\"reservation wage given $z$\")\n",
    "ax.set(xlabel=\"$z$\", ylabel=\"wage\")\n",
    "ax.legend()\n",
    "plt.show()"
   ]
  },
  {
   "cell_type": "markdown",
   "metadata": {},
   "source": [
    "### Let's try changing unemployment compensation"
   ]
  },
  {
   "cell_type": "code",
   "execution_count": 8,
   "metadata": {},
   "outputs": [
    {
     "data": {
      "image/png": "[encoded data removed]",
      "text/plain": [
       "<matplotlib.figure.Figure at 0x7fbffe92e5f8>"
      ]
     },
     "metadata": {},
     "output_type": "display_data"
    }
   ],
   "source": [
    "c_vals = 1, 2, 3, 4\n",
    "\n",
    "fig, ax = plt.subplots(figsize=(9, 6))\n",
    "\n",
    "for c in c_vals:\n",
    "    js = JobSearch(c=c)\n",
    "    Q = js.generate_Q_operator()\n",
    "    f_star = compute_fixed_point(Q, f_init, verbose=False)\n",
    "    res_wage_function = np.exp(f_star * (1 - js.β))\n",
    "    ax.plot(js.z_grid, res_wage_function, label=f\"$w^*$ at $c = {c}$\")\n",
    "    \n",
    "ax.set(xlabel=\"$z$\", ylabel=\"wage\")\n",
    "ax.legend()\n",
    "plt.show()"
   ]
  },
  {
   "cell_type": "markdown",
   "metadata": {},
   "source": [
    "### Exercise: Unemployment Duration"
   ]
  },
  {
   "cell_type": "markdown",
   "metadata": {},
   "source": [
    "Let's study how mean unemployment duration varies with unemployment compensation."
   ]
  },
  {
   "cell_type": "code",
   "execution_count": 9,
   "metadata": {},
   "outputs": [],
   "source": [
    "def compute_unemployment_duration(js, seed=1234):\n",
    "    \n",
    "    Q = js.generate_Q_operator()\n",
    "    f_star = compute_fixed_point(Q, f_init, verbose=False)\n",
    "    μ, s, d, ρ, σ, β, c = js.pack_parameters()\n",
    "    z_grid = js.z_grid\n",
    "    np.random.seed(seed)\n",
    "        \n",
    "    @njit\n",
    "    def f_star_function(z):\n",
    "        return interp1d(z_grid, f_star, z)\n",
    "\n",
    "    @njit\n",
    "    def draw_tau(t_max=10_000):\n",
    "        z = 0\n",
    "        t = 0\n",
    "\n",
    "        unemployed = True\n",
    "        while unemployed and t < t_max:\n",
    "            # draw current wage\n",
    "            y = np.exp(μ + s * np.random.randn())\n",
    "            w = np.exp(z) + y\n",
    "            res_wage = np.exp(f_star_function(z) * (1 - β))\n",
    "            # if optimal to stop, record t\n",
    "            if w >= res_wage:\n",
    "                unemployed = False\n",
    "                τ = t\n",
    "            # else increment data and state \n",
    "            else:\n",
    "                z = ρ * z + d + σ * np.random.randn()\n",
    "                t += 1\n",
    "        return τ\n",
    "\n",
    "    @njit(parallel=True)\n",
    "    def compute_expected_tau(num_reps=100_000):\n",
    "        sum_value = 0\n",
    "        for i in prange(num_reps):\n",
    "            sum_value += draw_tau()\n",
    "        return sum_value / num_reps\n",
    "\n",
    "    return compute_expected_tau()\n",
    "        "
   ]
  },
  {
   "cell_type": "code",
   "execution_count": 10,
   "metadata": {},
   "outputs": [],
   "source": [
    "c_vals = np.linspace(1.0, 10.0, 8)\n",
    "durations = np.empty_like(c_vals)\n",
    "for i, c in enumerate(c_vals):\n",
    "    js = JobSearch(c=c)\n",
    "    τ = compute_unemployment_duration(js)\n",
    "    durations[i] = τ\n",
    "    \n",
    "    "
   ]
  },
  {
   "cell_type": "code",
   "execution_count": 11,
   "metadata": {},
   "outputs": [
    {
     "data": {
      "image/png": "[encoded data removed]",
      "text/plain": [
       "<matplotlib.figure.Figure at 0x7fc007051940>"
      ]
     },
     "metadata": {},
     "output_type": "display_data"
    }
   ],
   "source": [
    "fig, ax = plt.subplots()\n",
    "ax.plot(c_vals, durations)\n",
    "ax.set_xlabel(\"unemployment compensation\")\n",
    "ax.set_ylabel(\"mean unemployment duration\")\n",
    "plt.show()"
   ]
  },
  {
   "cell_type": "code",
   "execution_count": null,
   "metadata": {},
   "outputs": [],
   "source": []
  }
 ],
 "metadata": {
  "kernelspec": {
   "display_name": "Python 3",
   "language": "python",
   "name": "python3"
  },
  "language_info": {
   "codemirror_mode": {
    "name": "ipython",
    "version": 3
   },
   "file_extension": ".py",
   "mimetype": "text/x-python",
   "name": "python",
   "nbconvert_exporter": "python",
   "pygments_lexer": "ipython3",
   "version": "3.6.4"
  }
 },
 "nbformat": 4,
 "nbformat_minor": 2
}
