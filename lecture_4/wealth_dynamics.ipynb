{
 "cells": [
  {
   "cell_type": "markdown",
   "metadata": {},
   "source": [
    "## Wealth distribution dynamics\n",
    "\n",
    "#### John Stachurski"
   ]
  },
  {
   "cell_type": "markdown",
   "metadata": {},
   "source": [
    "This notebook gives an introduction to the evolution of weath distributions associated with different savings and income paths, along with related computational problems.\n",
    "\n",
    "We focus on\n",
    "\n",
    "* properties of the wealth distribution, such as degree of inequality\n",
    "\n",
    "* how these properties are affected by wage income and financial income\n",
    "    \n",
    "* how to compute and represent an evolving sequence of distributions\n",
    "\n",
    "We'll pick plausible savings rules rather than compute them via an optimization problem in order to simplify the presentation.  All of the techniques discussed here can be plugged into a model with optimization should you so desire.  "
   ]
  },
  {
   "cell_type": "markdown",
   "metadata": {},
   "source": [
    "plot distribution time path, gini path, lorenz curve path under different assumptions about y.\n",
    "\n",
    "plot size-rank plot for tails"
   ]
  },
  {
   "cell_type": "code",
   "execution_count": 108,
   "metadata": {},
   "outputs": [],
   "source": [
    "import numpy as np\n",
    "from numba import jit, njit, prange\n",
    "import matplotlib.pyplot as plt\n"
   ]
  },
  {
   "cell_type": "code",
   "execution_count": 109,
   "metadata": {},
   "outputs": [],
   "source": [
    "class Consumer:\n",
    "    \n",
    "    def __init__(self,\n",
    "                 w_hat=1.0,\n",
    "                 s_0=0.0,\n",
    "                 s_1=0.4,\n",
    "                 μ_y=0.5,\n",
    "                 σ_y=0.2,\n",
    "                 μ_R=0.2,\n",
    "                 σ_R=0.2):\n",
    "    \n",
    "        self.w_hat = w_hat\n",
    "        self.s_0, self.s_1 = s_0, s_1\n",
    "        self.μ_y, self.σ_y = μ_y, σ_y\n",
    "        self.μ_R, self.σ_R = μ_R, σ_R\n",
    "        \n",
    "        self.R_mean = np.exp(μ_R + 0.5 * σ_R**2)\n",
    "        self.y_mean = np.exp(μ_y + 0.5 * σ_y**2)\n",
    "        \n",
    "        # Test stability condition and compute stationary mean estimate\n",
    "        α = self.R_mean * self.s_1\n",
    "        if α < 1:\n",
    "            self.w_bar = self.y_mean / (1 - α)\n",
    "        else:\n",
    "            error_msg = f\"Stability condition failed with α = {α}\"\n",
    "            raise ValueError(error_msg)\n",
    "            \n",
    "    def unpack_parameters(self):\n",
    "        \"\"\"\n",
    "        Collect and return parameters.\n",
    "        \"\"\"\n",
    "        parameters = (self.w_hat, self.s_0, self.s_1,\n",
    "                      self.μ_y, self.σ_y,\n",
    "                      self.μ_R, self.σ_R)\n",
    "        return parameters\n",
    "        \n",
    "    def update_function_builder(self):\n",
    "        \"\"\"\n",
    "        A function factory that returns a function with one task:\n",
    "        update wealth from w_t to w_{t+1}.\n",
    "        \"\"\"\n",
    "        # Unpack parameters\n",
    "        parameters = self.unpack_parameters()\n",
    "        w_hat, s_0, s_1, μ_y, σ_y, μ_R, σ_R = parameters\n",
    "        \n",
    "        @njit\n",
    "        def update(w):\n",
    "            \"\"\"\n",
    "            Update wealth one period, given current wealth w.\n",
    "            \"\"\"\n",
    "            y = np.exp(μ_y + σ_y * np.random.randn())   \n",
    "            R = np.exp(μ_R + σ_R * np.random.randn())\n",
    "            s = s_0 if w < w_hat else s_1\n",
    "            return R * s * w + y\n",
    "        \n",
    "        return update\n",
    "    "
   ]
  },
  {
   "cell_type": "code",
   "execution_count": 110,
   "metadata": {},
   "outputs": [],
   "source": [
    "@njit\n",
    "def wealth_time_series(w_0, h, ts_length=100_000):\n",
    "    w = np.empty(ts_length)\n",
    "    w[0] = w_0\n",
    "    for t in range(ts_length-1):\n",
    "        w[t+1] = h(w[t])\n",
    "    return w"
   ]
  },
  {
   "cell_type": "code",
   "execution_count": 111,
   "metadata": {},
   "outputs": [],
   "source": [
    "@njit\n",
    "def cross_section(in_distribution, h, shift_length=100):\n",
    "    \"\"\"\n",
    "    Updates each w_t in in_distribution to w_{t+j} where\n",
    "    j = shift_length.  Returns the new distribution.\n",
    "    \"\"\"\n",
    "    out_distribution = np.empty_like(in_distribution)\n",
    "    for i, w in in_distribution:\n",
    "        for t in range(shift_length):\n",
    "            w = h(w)\n",
    "        out_distribution[i] = w\n",
    "    return out_distribution"
   ]
  },
  {
   "cell_type": "code",
   "execution_count": 112,
   "metadata": {},
   "outputs": [],
   "source": [
    "cns = Consumer()"
   ]
  },
  {
   "cell_type": "code",
   "execution_count": 113,
   "metadata": {},
   "outputs": [],
   "source": [
    "f = cns.update_function_builder()"
   ]
  },
  {
   "cell_type": "code",
   "execution_count": 114,
   "metadata": {},
   "outputs": [
    {
     "name": "stdout",
     "output_type": "stream",
     "text": [
      "CPU times: user 127 ms, sys: 0 ns, total: 127 ms\n",
      "Wall time: 124 ms\n"
     ]
    }
   ],
   "source": [
    "time w = wealth_time_series(cns.w_bar, f, ts_length=1000)"
   ]
  },
  {
   "cell_type": "code",
   "execution_count": 115,
   "metadata": {},
   "outputs": [
    {
     "data": {
      "image/png": "[encoded data removed]",
      "text/plain": [
       "<matplotlib.figure.Figure at 0x7fb52ccece10>"
      ]
     },
     "metadata": {},
     "output_type": "display_data"
    }
   ],
   "source": [
    "fig, ax = plt.subplots()\n",
    "ax.plot(w)\n",
    "plt.show()"
   ]
  },
  {
   "cell_type": "code",
   "execution_count": null,
   "metadata": {},
   "outputs": [],
   "source": []
  }
 ],
 "metadata": {
  "kernelspec": {
   "display_name": "Python 3",
   "language": "python",
   "name": "python3"
  },
  "language_info": {
   "codemirror_mode": {
    "name": "ipython",
    "version": 3
   },
   "file_extension": ".py",
   "mimetype": "text/x-python",
   "name": "python",
   "nbconvert_exporter": "python",
   "pygments_lexer": "ipython3",
   "version": "3.6.4"
  }
 },
 "nbformat": 4,
 "nbformat_minor": 2
}
